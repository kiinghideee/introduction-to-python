{
 "cells": [
  {
   "cell_type": "markdown",
   "id": "9ba6cea8",
   "metadata": {},
   "source": [
    "Automatic File Sort In File Explorer"
   ]
  },
  {
   "cell_type": "code",
   "execution_count": 7,
   "id": "35d0f1b1",
   "metadata": {},
   "outputs": [],
   "source": [
    "#this allows us to access operating system and also 'shutil' allows us to make some operations within the system\n"
   ]
  },
  {
   "cell_type": "code",
   "execution_count": 1,
   "id": "5eb6a2c1",
   "metadata": {},
   "outputs": [],
   "source": [
    "import os, shutil"
   ]
  },
  {
   "cell_type": "code",
   "execution_count": 8,
   "id": "0fa0c07b",
   "metadata": {},
   "outputs": [],
   "source": [
    "#path allows us to assign the folder to path in order to perform analysis"
   ]
  },
  {
   "cell_type": "code",
   "execution_count": 2,
   "id": "03606eb2",
   "metadata": {},
   "outputs": [],
   "source": [
    "path = r\"C:/Users\\DELL/Documents/Python Tutorial/\""
   ]
  },
  {
   "cell_type": "code",
   "execution_count": 9,
   "id": "82514f45",
   "metadata": {},
   "outputs": [],
   "source": [
    "#os.listdir(path) enables us to access the list of files in this 'path' directory"
   ]
  },
  {
   "cell_type": "code",
   "execution_count": 14,
   "id": "245bcdf3",
   "metadata": {},
   "outputs": [
    {
     "data": {
      "text/plain": [
       "['Bambiala Modified.docx',\n",
       " 'Conditional Formatting Excel Tutorial File.xlsx',\n",
       " 'Data Cleaning Excel Tutorial.xlsx',\n",
       " 'WhatsApp Image 2022-09-24 at 10.57.11 AM.jpeg']"
      ]
     },
     "execution_count": 14,
     "metadata": {},
     "output_type": "execute_result"
    }
   ],
   "source": [
    "os.listdir(path)"
   ]
  },
  {
   "cell_type": "code",
   "execution_count": 19,
   "id": "2a906f27",
   "metadata": {},
   "outputs": [],
   "source": [
    "#The code below is to check if this path exist in the folder\n",
    "#os.path.exists(path+'csv files') etc "
   ]
  },
  {
   "cell_type": "code",
   "execution_count": 13,
   "id": "4bfcf388",
   "metadata": {},
   "outputs": [],
   "source": [
    "#this code creates new file folder with os.makedirs(path + folder-names[loop])\n"
   ]
  },
  {
   "cell_type": "code",
   "execution_count": 18,
   "id": "6b111d81",
   "metadata": {},
   "outputs": [
    {
     "name": "stdout",
     "output_type": "stream",
     "text": [
      "C:/Users\\DELL/Documents/Python Tutorial/docx files\n",
      "C:/Users\\DELL/Documents/Python Tutorial/image files\n",
      "C:/Users\\DELL/Documents/Python Tutorial/xlsx files\n"
     ]
    }
   ],
   "source": [
    "folder_names = ['docx files', 'image files', 'xlsx files']\n",
    "\n",
    "for loop in range(0,3):\n",
    "    if not os.path.exists(path + folder_names[loop]):\n",
    "        print(path + folder_names[loop])\n",
    "        os.makedirs(path + folder_names[loop])"
   ]
  },
  {
   "cell_type": "code",
   "execution_count": 19,
   "id": "e5676eb4",
   "metadata": {},
   "outputs": [
    {
     "name": "stdout",
     "output_type": "stream",
     "text": [
      "['docx files', 'image files', 'xlsx files']\n"
     ]
    }
   ],
   "source": [
    "print(folder_names)"
   ]
  },
  {
   "cell_type": "code",
   "execution_count": 20,
   "id": "1df32833",
   "metadata": {},
   "outputs": [],
   "source": [
    "file_name = os.listdir(path)"
   ]
  },
  {
   "cell_type": "code",
   "execution_count": 24,
   "id": "31b84c6d",
   "metadata": {},
   "outputs": [],
   "source": [
    "for file in file_name:\n",
    "    if \".xlsx\" in file and not os.path.exists(path + \"/xlsx files/\" + file):\n",
    "        shutil.move(path + file, path + \"/xlsx files/\" + file)\n",
    "    elif \".docx\" in file and not os.path.exists(path + \"/docx files/\" + file):\n",
    "        shutil.move(path + file, path + \"/docx files/\" + file)\n",
    "    elif \".jpeg\" in file and not os.path.exists(path + \"/image files/\" + file):\n",
    "        shutil.move(path + file, path + \"/image files/\" + file)    "
   ]
  },
  {
   "cell_type": "code",
   "execution_count": null,
   "id": "613e98ef",
   "metadata": {},
   "outputs": [],
   "source": []
  }
 ],
 "metadata": {
  "kernelspec": {
   "display_name": "Python 3 (ipykernel)",
   "language": "python",
   "name": "python3"
  },
  "language_info": {
   "codemirror_mode": {
    "name": "ipython",
    "version": 3
   },
   "file_extension": ".py",
   "mimetype": "text/x-python",
   "name": "python",
   "nbconvert_exporter": "python",
   "pygments_lexer": "ipython3",
   "version": "3.11.4"
  }
 },
 "nbformat": 4,
 "nbformat_minor": 5
}
